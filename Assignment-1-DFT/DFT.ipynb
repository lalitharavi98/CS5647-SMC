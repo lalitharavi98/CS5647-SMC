{
 "cells": [
  {
   "cell_type": "markdown",
   "metadata": {},
   "source": [
    "# Assignment 1: Discrete Fourier Transform [10 marks]\n",
    "\n",
    "This assignment presents an introduction of Discrete Fourier Transform (DFT), a straightforward case study of its application, and a simple implementation of DFT. It aims to offer a clear and practical example, making the concept of DFT more accessible and enjoyable to grasp. Through this small exercise, we hope it will provide you with a solid foundation and enhance your understanding of DFT,encouraging you to explore its applications further. Happy learning!"
   ]
  },
  {
   "cell_type": "markdown",
   "metadata": {},
   "source": [
    "# 1. A Historical Perspective\n",
    "Before getting to DFT, Let's start from Fourier series.\n",
    "\n",
    "The research of Fourier analysis start in 1748 with L. Euler, who examined the motion of a vibrating string (). What Euler noted was\n",
    "that the vibration consists of some basic components, the so-called \"normal mode\". And further, at certain point in time, the position of the vibrating string is a linear combination of these normal modes.\n",
    "<div align=center>\n",
    "    <img src=\"./resources/normal_modes.png\" width=\"600\"/>\n",
    "    <div>Figure 1. Normal modes of a vibrating string. Figure from Signals and Systems (2nd edition), Alan V. Oppenheim. </div>\n",
    "</div>\n",
    "If you want to \n",
    "Not only for string vibration, there is a large class of interesting functions could be represented by linear combinations of a series of simple periodic signals (sinusoids originally, but now we use complex exponentials more, which is even simpler). In fact, breaking signals into simpler components do facilitate the analysis of, and computation with them. This is not only in sound study, but also motivated by research of heat propagation and diffusion in physics. Finally, after the hard work of Fourier, Dirichlet, and other predecessors, we now know that:\n",
    "\n",
    "- Roughly, once you can [draw a **periodic signal** on a paper](https://en.wikiversity.org/wiki/Dirichlet_conditions), you can decompose it into a combination of complex exponential signals ([Fourier series](https://en.wikipedia.org/wiki/Fourier_series) representation). (Note: complex exponentials is not complicated though, it is just a \"coiled spring\" along the time axis.)\n",
    "- Such decomposition also works for **aperiodic** signals---just treat it as signals with infinite period ([Fourier transform, FT](https://en.wikipedia.org/wiki/Fourier_transform)).\n",
    "\n",
    "Nowadays, FT is widely used in audio analysis and processing. With its help, we can visualize frequency components of audio, and even manupulate them. Specifically, due to audio is stored with sample points in digital devices, FT can be achieved in the version for discrete signals--Discrete-Time FT (DTFT), which produces a continuous spectrogram. Further, its discrete version, Discrete Fourier Transform (DFT), produces a discrete spectrogram, and is easier to implement. When analyzing a short span of signals (it's aperiodic itself), DFT is the Fourier series coefficients of a counterpart periodic signal, which equals to the signal-to-be-analyzed in each period. \n",
    "\n",
    "If you want to have some further review of relevant concepts, you can have a quick scan of [Oppenheim's Signals and Systems](https://eee.guc.edu.eg/Courses/Communications/COMM401%20Signal%20&%20System%20Theory/Alan%20V.%20Oppenheim,%20Alan%20S.%20Willsky,%20with%20S.%20Hamid-Signals%20and%20Systems-Prentice%20Hall%20(1996).pdf), Chapters 2~4.\n",
    "\n",
    "# 2. Case Study: Equalizer and Spectrum Analyzer\n",
    "\n",
    "Your TA Longshen sometimes record violin pieces as hobby. Here is an recording segment from [this piece](https://www.bilibili.com/video/BV1yh4y1R7rb/?vd_source=94ae590c0cc90c0a8b5ff96acff6e466).\n",
    "\n",
    "<audio controls>\n",
    "    <source src=\"./resources/violin_before.mp3\" type=\"audio/mpeg\">\n",
    "    Your browser does not support the audio element.\n",
    "</audio>\n",
    "\n",
    "Due to various reasons, violin sound in microphone tend to be quite different than its sound in live performance. In this recording, the sound has a bit \"dark\" timbre, making it not quite suitable for a contemporary music. To make the sound \"lighter\", having more \"presence\", we can use a tool called Equalizer (EQ) to tune its frequency component, specifically, make the components with higher frequency \"stronger\".\n",
    "\n",
    "<div align=center>\n",
    "    <img src=\"./resources/freq_before.png\" height=\"300\"/>\n",
    "    <img src=\"./resources/eq.png\" height=\"300\"/>\n",
    "    <img src=\"./resources/freq_after.png\" height=\"300\"/>\n",
    "    <div>Figure 2. (1) Frequency component of a short clip (several ms). (2) EQ configuration. (3) Frequency component of the same clip, after applying EQ.</div>\n",
    "</div>\n",
    "\n",
    "In addition to EQ, another powerful applications of DFT is audio spectrum analysis. An audio spectrum analyzer, as shown in Figure 2.(1) and (3), provides valuable insights into the frequency components of an audio signal, helping in tasks like identifying musical notes, detecting harmonics, analyzing sound sources, and designing audio effects and equalization. \n",
    "\n",
    "After applying EQ, we see more high frequency component when doing spectrum analysis. Here is the audio after applying EQ:\n",
    "\n",
    "<audio controls>\n",
    "    <source src=\"./resources/violin_after.mp3\" type=\"audio/mpeg\">\n",
    "    Your browser does not support the audio element.\n",
    "</audio>\n",
    "\n",
    "Now it becomes pretty nice!\n",
    "\n"
   ]
  },
  {
   "cell_type": "markdown",
   "metadata": {},
   "source": [
    "## **Task 1**: Play with EQ [2 marks]\n",
    "\n",
    "Use the [online equalizer](https://audioalter.com/equalizer), or any other ones (your DAW software / ffmpeg), make the timbre of \"[violin_before.mp3](./resources/violin_before.mp3)\" even darker. Insert your EQ configuration screenshot and the modified mp3 file inside this cell.\n",
    "\n",
    "(TODO: Your EQ config and modified audio here)\n",
    "\n",
    "[EQ config screenshot]\n",
    "\n",
    "[Modified audio]"
   ]
  },
  {
   "cell_type": "markdown",
   "metadata": {},
   "source": [
    "# 3. DFT Implementation\n",
    "\n",
    "Here, we are going to show a naive way of implementing DFT. You are required to fill the code in this section, and successfully run them, to get the marks. \n",
    "\n",
    "Note: Remember to keep the running history in the submitted file."
   ]
  },
  {
   "cell_type": "markdown",
   "metadata": {},
   "source": [
    "`- Construct a signal`\n",
    "\n",
    "Create a signal with three components:\n",
    "$$ s_1(x) = 2 \\sin(2 \\pi x)$$\n",
    "$$ s_2(x) = 4 \\sin(4 \\pi x + \\frac{\\pi}{6})$$\n",
    "$$ s_3(x) = 0.5 \\sin(6 \\pi x)$$\n",
    "$$s(x) = s_1(x) + s_2(x) + s_3(x)$$\n",
    "\n"
   ]
  },
  {
   "cell_type": "markdown",
   "metadata": {},
   "source": [
    "## **Task 2** [1 mark]: construct signals (1)\n",
    "Construct $s_1(x)$, $s_2(x)$, $s_3(x)$, and $s(x)$ with python, then draw the diagrams of the signals."
   ]
  },
  {
   "cell_type": "code",
   "execution_count": 80,
   "metadata": {},
   "outputs": [],
   "source": [
    "import numpy as np\n",
    "import matplotlib.pyplot as plt"
   ]
  },
  {
   "cell_type": "code",
   "execution_count": 81,
   "metadata": {},
   "outputs": [],
   "source": [
    "# We use a high sampling rate to simulate the continuous signals with discrete signals.\n",
    "x = np.linspace(0, 10, 1000) # Observe the signals of [0, 10] seconds. Sampling rate: 100 Hz.\n",
    "\n",
    "shape = x.shape\n",
    "s_1 = np.empty(shape)\n",
    "s_2 = np.empty(shape)\n",
    "s_3 = np.empty(shape)\n",
    "s = np.empty(shape)\n",
    "\n",
    "# Construct the signals s1(x), s2(x), s3(x), and s(x) based on x\n",
    "''' YOUR CODE HERE\n",
    "Hint:\n",
    "s_1, s_2, s_3 respectively represent s1(x), s2(x), and s3(x)\n",
    "s represents s(x)\n",
    "'''\n"
   ]
  },
  {
   "cell_type": "code",
   "execution_count": null,
   "metadata": {},
   "outputs": [],
   "source": [
    "# Visualize s1(x), s2(x), and s3(x) [After successfully run the cell above, RUN THE CODES directly to see the visualization.]\n",
    "with plt.style.context('classic'):\n",
    "    plt.figure(figsize=(8,2), dpi=100)\n",
    "    plt.plot(x, s_1, label='$s1$',color='red',linewidth=0.5)\n",
    "    plt.plot(x, s_2, label='$s2$',color='green',linewidth=0.5)\n",
    "    plt.plot(x, s_3, label='$s3$',color='blue',linewidth=0.5)\n",
    "    plt.xlabel('Time(s)')\n",
    "    plt.ylabel('Amplitude')\n",
    "    plt.xlim(0,10)\n",
    "    plt.ylim(-10,10)\n",
    "    plt.legend()\n",
    "    plt.show()"
   ]
  },
  {
   "cell_type": "code",
   "execution_count": null,
   "metadata": {},
   "outputs": [],
   "source": [
    "# Visualize s(x) [RUN THE CODES to see the visualization.]\n",
    "with plt.style.context('classic'):\n",
    "    plt.figure(figsize=(8,2), dpi=100)\n",
    "    # plt.set_size_inches(4,2, forward = False)\n",
    "    plt.plot(x,s,label='$s$',color='black',linewidth=0.5)\n",
    "    plt.xlabel('Time(s)')\n",
    "    plt.ylabel('Amplitude')\n",
    "    plt.xlim(0,10)\n",
    "    plt.ylim(-10,10)\n",
    "    plt.legend()\n",
    "    plt.show()"
   ]
  },
  {
   "cell_type": "markdown",
   "metadata": {},
   "source": [
    "`- Sample the signal`\n",
    "\n",
    "According to the [Shannon-Nyquist Theorem](https://en.wikipedia.org/wiki/Nyquist%E2%80%93Shannon_sampling_theorem), a band-limited continuous signal $s(t)$ can be perfectly reconstruct from its samples, if the sampling frequency $f_s$ is large enough:\n",
    "$$ f_s > 2 \\cdot f_{\\max} $$\n",
    "where $f_{\\max}$ refers to the largest frequency component in s(x). In our case, since $f_{\\max} = 3~\\text{Hz}$, we choose $f_s = 8~\\text{Hz}$.\n",
    "\n",
    "## **Task 3** [1 mark]: construct signals (2) \n",
    "Respectively construct discrete signals $s_1[n]$, $s_2[n]$, $s_3[n]$, and $s[n]$ by using python code, then draw the diagrams of the signals."
   ]
  },
  {
   "cell_type": "code",
   "execution_count": 84,
   "metadata": {},
   "outputs": [],
   "source": [
    "# Construct the discretized signals s1[n], s2[n], s3[n], and s[n]\n",
    "sr = 8 # sampling rate\n",
    "t_n = np.arange(0, 10, 1/sr)\n",
    "\n",
    "shape = t_n.shape\n",
    "s_1_n = np.empty(shape)\n",
    "s_2_n = np.empty(shape)\n",
    "s_3_n = np.empty(shape)\n",
    "s_n = np.empty(shape)\n",
    "\n",
    "''' YOUR CODE HERE\n",
    "Hint:\n",
    "1. Construct a discretized time series x_n. Consider the signal s(x) only lasts for 1s and the sampling rate fs is 8. \n",
    "In this case, the discretized signals only have 8 sample points.\n",
    "2. Construct the discretized signals based on the time series.\n",
    "s1_n, s2_n, s3_n, and s_n respectively represent s1(n), s2(n), s3(n), and s(n).\n",
    "'''\n"
   ]
  },
  {
   "cell_type": "code",
   "execution_count": null,
   "metadata": {},
   "outputs": [],
   "source": [
    "# Visualize s1[n], s2[n], and s3[n] [After successfully run the cell above, RUN THE CODES directly to see the visualization.]\n",
    "with plt.style.context('classic'):\n",
    "    plt.figure(figsize=(8,2), dpi=100)\n",
    "    plt.plot(x, s_1, label='$s1$',color='red',linewidth=0.5)\n",
    "    plt.plot(x, s_2, label='$s2$',color='green',linewidth=0.5)\n",
    "    plt.plot(x, s_3, label='$s3$',color='blue',linewidth=0.5)\n",
    "    plt.scatter(t_n, s_1_n, label='$s1_n$',color='red',linewidth=0.5, s=10)\n",
    "    plt.scatter(t_n, s_2_n, label='$s2_n$',color='green',linewidth=0.5, s=10)\n",
    "    plt.scatter(t_n, s_3_n, label='$s3_n$',color='blue',linewidth=0.5, s=10)\n",
    "    plt.xlabel('Time(s)')\n",
    "    plt.ylabel('Amplitude')\n",
    "    plt.xlim(0,10)\n",
    "    plt.ylim(-10,10)\n",
    "    plt.legend()\n",
    "    plt.show()"
   ]
  },
  {
   "cell_type": "code",
   "execution_count": null,
   "metadata": {},
   "outputs": [],
   "source": [
    "# Visualize the discretized signal s[n] [RUN THE CODES to see the visualization.]\n",
    "with plt.style.context('classic'):\n",
    "    plt.figure(figsize=(8,2), dpi=100)\n",
    "    plt.plot(x,s,label='$s$',color='black',linewidth=0.5)\n",
    "    plt.scatter(t_n,s_n,label='$\\hat{s}$',color='blue')\n",
    "    plt.xlabel('Time(s)')\n",
    "    plt.ylabel('Amplitude')\n",
    "    plt.xlim(0,10)\n",
    "    plt.ylim(-10,10)\n",
    "    plt.legend()\n",
    "    plt.show()\n"
   ]
  },
  {
   "cell_type": "markdown",
   "metadata": {},
   "source": [
    "`- Construct $W^k$ for DFT`\n",
    "\n",
    "Let's compute the DFT for a short segment from the signal $s_n$, where $t \\in [0, 1)$"
   ]
  },
  {
   "cell_type": "code",
   "execution_count": 86,
   "metadata": {},
   "outputs": [],
   "source": [
    "t_x_n = t_n[t_n < 1]    # time axis (in second) for x[n]\n",
    "x_n = s_n[t_n < 1]      # x[n], we want to compute its DFT later\n",
    "N = len(x_n)            # signal length"
   ]
  },
  {
   "cell_type": "markdown",
   "metadata": {},
   "source": [
    "Here is the DFT equation. A finite duration signal can be decompose to linear combination of complex exponential signals (Inverse DFT, IDFT),\n",
    "where the coefficient of each complex exponential can be computed from DFT.\n",
    "\n",
    "$$ x[n] = \\sum_{k=0}^{N-1}a_ke^{jk(\\frac{2\\pi}{N})n},  \\,n \\in [0, 1, ..., N-1]  \\quad \\text{Inverse DFT}$$\n",
    "$$ X[k] = a_k = \\sum\\limits_{n=0}^{N-1} x[n] e^{-j\\frac{2 \\pi}{N}kn}, \\,k \\in [0, 1, ..., N-1] \\quad \\text{DFT}$$\n",
    "\n",
    "\n",
    "where $N$ is signal length in sample (an integer). \n",
    "For each specific $k$ value, The DFT can be represented using dot product between the original signal $x[n]$ and a length-k vector $\\mathbf{W}$\n",
    "\n",
    "$$ X[k] = \\mathbf{W}^k \\cdot \\mathbf{x}$$ \n",
    "\n",
    "where $\\mathbf{x}$ is a column vector represent the signal $x[n]$; for each $W^k_n \\in \\mathbf{W}^k, W^k_n = e^{-j\\frac{2 \\pi}{N}kn}, \\,n \\in [0, 1, ..., N-1]$.\n",
    "\n",
    "For example, $X[1]$ can be calculated as\n",
    "\n",
    "$$ X[1] = \\mathbf{W}^1 \\cdot \\mathbf{x} = \n",
    "\\begin{bmatrix}\n",
    "    W^{k=1}_{n=0} & W^{k=1}_{n=1} & W^{k=1}_{n=2} & \\dots & W^{k=1}_{n=7}\\\\\n",
    "\\end{bmatrix} \\cdot \\begin{bmatrix}\n",
    "    x[0] \\\\ x[1] \\\\ \\dots \\\\ x[7]\n",
    "\\end{bmatrix} = \n",
    "\\begin{bmatrix}\n",
    "    e^{-\\frac{j 2\\pi}{8}\\cdot 1 \\cdot 0} &\n",
    "    e^{-\\frac{j 2\\pi}{8}\\cdot 1 \\cdot 1} &\n",
    "    e^{-\\frac{j 2\\pi}{8}\\cdot 1 \\cdot 2} &\n",
    "    \\dots&\n",
    "    e^{-\\frac{j 2\\pi}{8}\\cdot 1 \\cdot 7}\n",
    "\\end{bmatrix} \\cdot\n",
    "\\begin{bmatrix}\n",
    "    x[0] \\\\ x[1] \\\\ \\dots \\\\ x[7]\n",
    "\\end{bmatrix}\n",
    "$$\n",
    "\n",
    "\n"
   ]
  },
  {
   "cell_type": "markdown",
   "metadata": {},
   "source": [
    "## **Task 4** [1 mark]: prepare W (1)\n",
    "Finish the function to compute $W^k_n$. Show and visualize the value of $\\mathbf{W}^1$."
   ]
  },
  {
   "cell_type": "code",
   "execution_count": null,
   "metadata": {},
   "outputs": [],
   "source": [
    "def W_k_n(N, k, n):\n",
    "    '''\n",
    "    IMPLEMENT THIS FUNCTION\n",
    "    YOUR CODE HERE\n",
    "    input: N, k, n\n",
    "    output: corresponding value of W^k_n\n",
    "\n",
    "    Hint: python 3 support build-in complex function. E.g., 0 + 1j\n",
    "    '''\n",
    "    res = None\n",
    "    return res\n",
    "\n",
    "# Compute and display W_1\n",
    "W_1 = [W_k_n(N=N, k=1, n=i) for i in range(N)]\n",
    "W_1"
   ]
  },
  {
   "cell_type": "code",
   "execution_count": null,
   "metadata": {},
   "outputs": [],
   "source": [
    "# Visualize the real and imaginary part of w1 [RUN THE CODES to see the visualization.]\n",
    "\n",
    "reals = [z.real for z in W_1]\n",
    "imags = [z.imag for z in W_1]\n",
    "\n",
    "with plt.style.context('classic'):\n",
    "    plt.figure(figsize=(8,2), dpi=100)\n",
    "    plt.subplot(2, 1, 1)\n",
    "    plt.ylabel('Re')\n",
    "    # plt.plot(t_n, reals,color='black',linewidth=0.5)\n",
    "    plt.scatter(t_x_n, reals, color='blue')\n",
    "\n",
    "    plt.xlim(-0.1,1)\n",
    "    plt.ylim(-1.2,1.2)\n",
    "    plt.xticks([])\n",
    "    plt.yticks([-1, 0, 1])\n",
    "\n",
    "    plt.subplot(2, 1, 2)\n",
    "    plt.ylabel('Img')\n",
    "    # plt.plot(t,img1,color='black',linewidth=0.5)\n",
    "    plt.scatter(t_x_n, imags, color='blue')\n",
    "\n",
    "    plt.xlim(-0.1,1)\n",
    "    plt.ylim(-1.2,1.2)\n",
    "    plt.xticks()\n",
    "    plt.yticks([-1, 0, 1])\n",
    "    plt.show()"
   ]
  },
  {
   "cell_type": "markdown",
   "metadata": {},
   "source": [
    "The whole DFT matrix $\\mathbf{W}$ can be calculated as:\n",
    "$$ \n",
    "    \\mathbf{W} = \\begin{bmatrix}\n",
    "    \\mathbf{W}^{k=0} \\\\ \\mathbf{W}^{k=1} \\\\ \\dots \\\\ \\mathbf{W}^{k=N-1}\\\\\n",
    "\\end{bmatrix}\n",
    "$$"
   ]
  },
  {
   "cell_type": "markdown",
   "metadata": {},
   "source": [
    "## **Task 5** [1 mark]: prepare W (2)\n",
    "Calculate the whole DFT matrix $\\mathbf{W}$"
   ]
  },
  {
   "cell_type": "code",
   "execution_count": null,
   "metadata": {},
   "outputs": [],
   "source": [
    "shape = (N, N)\n",
    "dft_w = np.empty(shape)\n",
    "\n",
    "''' YOUR CODE HERE\n",
    "Hint:\n",
    "dft_w represents the DFT matrix W for s(n).\n",
    "'''\n",
    "\n",
    "\n",
    "# Show the value of the DFT matrix W\n",
    "np.around(dft_w, 3)"
   ]
  },
  {
   "cell_type": "markdown",
   "metadata": {},
   "source": [
    "`- Calculate DFT` [2 marks]"
   ]
  },
  {
   "cell_type": "markdown",
   "metadata": {},
   "source": [
    "## **Task 6** [1 mark]: calculate DFT\n",
    "Calculate the DFT $X[k]$ of the original signal by applying dot product between $x[n]$ and the DFT matrix $\\mathbf{W}$.\n",
    "$$X[k] = \\mathbf{W} \\cdot x[n]$$"
   ]
  },
  {
   "cell_type": "code",
   "execution_count": null,
   "metadata": {},
   "outputs": [],
   "source": [
    "shape = (N,)\n",
    "X_k = np.empty(shape)\n",
    "\n",
    "''' YOUR CODE HERE\n",
    "Hint:\n",
    "X_k represents the DFT output of x[n].\n",
    "When specifying n and k, corresponding DFT value should be X_k[k][s]\n",
    "'''\n",
    "\n",
    "\n",
    "# Show the value of the DFT output\n",
    "X_k = np.round(X_k, 3)\n",
    "X_k"
   ]
  },
  {
   "cell_type": "markdown",
   "metadata": {},
   "source": [
    "## **Task 7** [1 mark]: validate results\n",
    "Compare our calculated DFT with the DFT calculated by numpy.fft.fft."
   ]
  },
  {
   "cell_type": "code",
   "execution_count": null,
   "metadata": {},
   "outputs": [],
   "source": [
    "shape = (N,)\n",
    "dft_real = np.empty(shape)\n",
    "\n",
    "''' YOUR CODE HERE\n",
    "Hint:\n",
    "dft_real represents the DFT calculated by numpy.fft.fft.\n",
    "'''\n",
    "\n",
    "# Show the value of the DFT calculated by numpy.fft.fft\n",
    "dft_real = np.round(dft_real, 3)\n",
    "print('Result from np.fft:', dft_real)\n",
    "\n",
    "# calculate the distance between our calculated DFT and the DFT calculated by numpy.fft.fft\n",
    "dist = np.average(abs((dft_real - X_k)))\n",
    "print(\"The error is: \" + str(dist))"
   ]
  },
  {
   "cell_type": "code",
   "execution_count": null,
   "metadata": {},
   "outputs": [],
   "source": [
    "# [RUN THE CODES to see the visualization.]\n",
    "\n",
    "with plt.style.context('classic'):\n",
    "    # Plot the input signal\n",
    "    plt.figure(figsize=(10, 6))\n",
    "    plt.subplot(3, 1, 1)\n",
    "    plt.plot(x, s, label='$s$',color='black',linewidth=0.5)\n",
    "    plt.scatter(t_x_n,x_n,label='$\\hat{s}$',color='blue')\n",
    "    plt.title(\"Input Signal\")\n",
    "    plt.ylabel(\"Amplitude\")\n",
    "    plt.xlim(0,1)\n",
    "\n",
    "    # Plot the DFT output (amplitude spectrum)\n",
    "    # We usually care about the amplitude spectrum which is |S[n]|\n",
    "    plt.subplot(3, 1, 2)\n",
    "    f = list(range(N))\n",
    "    plt.stem(f, np.abs(X_k))\n",
    "    plt.title(\"DFT Output (Amplitude Spectrum)\")\n",
    "    plt.ylabel(\"Amplitude\")\n",
    "    plt.xlim(-1,9)\n",
    "    plt.ylim(-1, 20)\n",
    "\n",
    "    # Show the plots\n",
    "    plt.tight_layout()\n",
    "    plt.show()"
   ]
  },
  {
   "cell_type": "markdown",
   "metadata": {},
   "source": [
    "Our original signal $x[n]$ has three frequency components: $f_1 = 1{\\rm Hz}$, $f_2 = 2{\\rm Hz}$, and $f_3 = 3{\\rm Hz}$. \n",
    "\n",
    "The visualization of the DFT output shows that there are non-negarive values for real parts of $X[k=1]$, $X[k=2]$, and $X[k=3]$. \n",
    "\n",
    "We also notice that $\\Re(X[1]) = \\Re(X[7]), \\Re(X[2]) = \\Re(X[6]), \\Re(X[3]) = \\Re(X[5])$, which is the result of the 'conjugate symmetry property':\n",
    "$$ X[k] = X^*[N - k], \\,\\text{if $x[n]$ is a real valued signal.}$$\n",
    "where $*$ means complex conjugate.\n",
    "\n",
    "Can you deduce this property of DFT from the DFT formula $ X[k] = \\sum\\limits_{n=0}^{N-1} x[n] e^{-j\\frac{2 \\pi}{N}kn} $?"
   ]
  },
  {
   "cell_type": "markdown",
   "metadata": {},
   "source": [
    "## **Task 8** [2 marks]: conjugate symmetry\n",
    "Prove the Conjugate Symmetry property of DFT."
   ]
  },
  {
   "cell_type": "markdown",
   "metadata": {},
   "source": [
    "Write down your mathematical derivation process in the following block. Please use latex to write down the formula and your derivation process."
   ]
  },
  {
   "cell_type": "markdown",
   "metadata": {},
   "source": [
    "Your Answers:\n"
   ]
  }
 ],
 "metadata": {
  "kernelspec": {
   "display_name": "Python 3.9.13 ('4347')",
   "language": "python",
   "name": "python3"
  },
  "language_info": {
   "codemirror_mode": {
    "name": "ipython",
    "version": 3
   },
   "file_extension": ".py",
   "mimetype": "text/x-python",
   "name": "python",
   "nbconvert_exporter": "python",
   "pygments_lexer": "ipython3",
   "version": "3.9.13"
  },
  "vscode": {
   "interpreter": {
    "hash": "0dadc3a26be8ee61448f9b2cf38da1ad7bf9dce237469de4abf8b731c62695b2"
   }
  }
 },
 "nbformat": 4,
 "nbformat_minor": 2
}
